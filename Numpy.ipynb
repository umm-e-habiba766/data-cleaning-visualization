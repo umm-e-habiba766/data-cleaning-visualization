{
 "cells": [
  {
   "cell_type": "code",
   "execution_count": 2,
   "id": "da5de5cb-ca13-4f30-ab4c-3909cd7fdb0d",
   "metadata": {},
   "outputs": [
    {
     "name": "stdout",
     "output_type": "stream",
     "text": [
      "[1 2 3 4]\n"
     ]
    }
   ],
   "source": [
    "import numpy as np\n",
    "arr=np.array((1,2,3,4))# crating array\n",
    "print(arr)"
   ]
  },
  {
   "cell_type": "code",
   "execution_count": 5,
   "id": "354bcaeb-14ee-4519-a115-d0c7fd0832f4",
   "metadata": {},
   "outputs": [
    {
     "name": "stdout",
     "output_type": "stream",
     "text": [
      "[0. 0. 0. 0.]\n"
     ]
    }
   ],
   "source": [
    "arr=np.zeros(4) # zero D array\n",
    "print(arr)"
   ]
  },
  {
   "cell_type": "code",
   "execution_count": 6,
   "id": "af837790-47e0-49f5-8f2f-6156fe281ef2",
   "metadata": {},
   "outputs": [
    {
     "name": "stdout",
     "output_type": "stream",
     "text": [
      "[1. 1. 1. 1.]\n"
     ]
    }
   ],
   "source": [
    "arr=np.ones(4) # 1 D array\n",
    "print(arr)"
   ]
  },
  {
   "cell_type": "code",
   "execution_count": 7,
   "id": "18c1ffc9-c24a-49c2-b39b-ed7b5d13f74e",
   "metadata": {},
   "outputs": [
    {
     "name": "stdout",
     "output_type": "stream",
     "text": [
      "Arange: [1 3 5 7 9]\n"
     ]
    }
   ],
   "source": [
    "arr = np.arange(1, 10, 2)\n",
    "print(\"Arange:\", arr) # arrange(give range into equally spaced step)\n"
   ]
  },
  {
   "cell_type": "code",
   "execution_count": 8,
   "id": "6cd87fee-4dc2-4b9b-bb08-82224bd4288d",
   "metadata": {},
   "outputs": [
    {
     "name": "stdout",
     "output_type": "stream",
     "text": [
      "Linspace: [0.   0.25 0.5  0.75 1.  ]\n"
     ]
    }
   ],
   "source": [
    "arr = np.linspace(0, 1, 5)\n",
    "print(\"Linspace:\", arr)# linspace(we give range and it give eqyally spaced)\n"
   ]
  },
  {
   "cell_type": "code",
   "execution_count": 3,
   "id": "294088db-7249-4477-8f8e-ee8f898fa3c6",
   "metadata": {},
   "outputs": [
    {
     "name": "stdout",
     "output_type": "stream",
     "text": [
      "Transpose: [[1 4]\n",
      " [2 5]\n",
      " [3 6]\n",
      " [4 7]]\n"
     ]
    }
   ],
   "source": [
    "import numpy as np\n",
    "arr = np.array([[1, 2, 3, 4],[4,5,6,7]]) # take transpose\n",
    "print(\"Transpose:\", arr.T)"
   ]
  },
  {
   "cell_type": "code",
   "execution_count": 10,
   "id": "8ce03ecb-a411-4bc1-85be-8fe04f95a0bc",
   "metadata": {},
   "outputs": [
    {
     "name": "stdout",
     "output_type": "stream",
     "text": [
      "[[ 1  2  3]\n",
      " [ 4  5  6]\n",
      " [ 7  8  9]\n",
      " [10 11 12]]\n"
     ]
    }
   ],
   "source": [
    "arr = np.array([1, 2, 3, 4, 5, 6, 7, 8, 9, 10, 11, 12])# convert 1D array to 2D array\n",
    "\n",
    "newarr = arr.reshape(4, 3)\n",
    "\n",
    "print(newarr)"
   ]
  },
  {
   "cell_type": "code",
   "execution_count": 11,
   "id": "1fda3202-b185-4e9b-9195-0a8ed6e3e20b",
   "metadata": {},
   "outputs": [
    {
     "name": "stdout",
     "output_type": "stream",
     "text": [
      "[array([1, 2]), array([3, 4]), array([5, 6])]\n"
     ]
    }
   ],
   "source": [
    "arr = np.array([1, 2, 3, 4, 5, 6])\n",
    "# it spilt the array\n",
    "newarr = np.array_split(arr, 3)\n",
    "\n",
    "print(newarr)"
   ]
  },
  {
   "cell_type": "code",
   "execution_count": 12,
   "id": "48b2b5fd-8ab5-45aa-bf9d-36bb4f178028",
   "metadata": {},
   "outputs": [
    {
     "name": "stdout",
     "output_type": "stream",
     "text": [
      "[0 1 2 3]\n"
     ]
    }
   ],
   "source": [
    "arr = np.array([3, 2, 0, 1])\n",
    "# it sort the array\n",
    "print(np.sort(arr))"
   ]
  },
  {
   "cell_type": "code",
   "execution_count": 13,
   "id": "34708224-615e-4a0f-8df0-6ed42bee7eb3",
   "metadata": {},
   "outputs": [
    {
     "name": "stdout",
     "output_type": "stream",
     "text": [
      "[1 2 3 4 5 6]\n"
     ]
    }
   ],
   "source": [
    "arr1 = np.array([1, 2, 3])\n",
    "\n",
    "arr2 = np.array([4, 5, 6])\n",
    "# concatenate(convert two 1D array into one array)\n",
    "arr = np.concatenate((arr1, arr2))\n",
    "\n",
    "print(arr)"
   ]
  },
  {
   "cell_type": "code",
   "execution_count": 14,
   "id": "9fbfeb8d-65ee-4d03-a925-a098a0f10911",
   "metadata": {},
   "outputs": [
    {
     "data": {
      "text/plain": [
       "array([ 2,  4,  6,  8, 10])"
      ]
     },
     "execution_count": 14,
     "metadata": {},
     "output_type": "execute_result"
    }
   ],
   "source": [
    "arr = np.array([2, 4, 4, 6, 8, 8, 10])\n",
    "np.unique(arr) # unique ( do not repeat values)"
   ]
  },
  {
   "cell_type": "code",
   "execution_count": 8,
   "id": "eada9734-94a1-43ae-a55a-9d7e456c91e6",
   "metadata": {},
   "outputs": [
    {
     "name": "stdout",
     "output_type": "stream",
     "text": [
      "10\n",
      "2\n"
     ]
    }
   ],
   "source": [
    "arr = np.array([2, 4, 4, 6, 8, 8, 10])\n",
    "print(np.max(arr)) # find maximum value\n",
    "print(np.min(arr))# find minimum value"
   ]
  },
  {
   "cell_type": "code",
   "execution_count": 10,
   "id": "09f9aa78-998d-473a-9a60-6d226fd5750d",
   "metadata": {},
   "outputs": [
    {
     "name": "stdout",
     "output_type": "stream",
     "text": [
      "[[1 1 1]\n",
      " [1 1 1]\n",
      " [1 1 1]]\n"
     ]
    }
   ],
   "source": [
    "print(np.full((3,3),1)) #full matrix"
   ]
  },
  {
   "cell_type": "code",
   "execution_count": 13,
   "id": "e8af73d4-4a53-4932-8b4c-7b185b3b34a1",
   "metadata": {},
   "outputs": [
    {
     "name": "stdout",
     "output_type": "stream",
     "text": [
      "['fail' 'fail' 'fail' 'pass' 'pass' 'pass']\n"
     ]
    }
   ],
   "source": [
    "arr=np.array([2,3,5,10,45,60]) # where ( we can use conditions)\n",
    "print(np.where(arr>5,\"pass\",\"fail\"))"
   ]
  },
  {
   "cell_type": "code",
   "execution_count": 16,
   "id": "df09a09b-38fc-4829-8bfe-92fb6f325d85",
   "metadata": {},
   "outputs": [
    {
     "name": "stdout",
     "output_type": "stream",
     "text": [
      "[[1 2 3]\n",
      " [4 5 6]]\n"
     ]
    }
   ],
   "source": [
    "arr=np.array([[1,2,3],[4,5,6,]]) # creatng 2D array\n",
    "print(arr)"
   ]
  },
  {
   "cell_type": "code",
   "execution_count": 17,
   "id": "faec04ec-05d8-44af-8699-89fca5c5f9d1",
   "metadata": {},
   "outputs": [
    {
     "name": "stdout",
     "output_type": "stream",
     "text": [
      "[[[1 2 3]\n",
      "  [4 5 6]]\n",
      "\n",
      " [[6 9 7]\n",
      "  [1 0 4]]]\n"
     ]
    }
   ],
   "source": [
    "arr=np.array([[[1,2,3],[4,5,6,]],[[6,9,7],[1,0,4]]]) # creatng 3D array\n",
    "print(arr)"
   ]
  },
  {
   "cell_type": "code",
   "execution_count": 18,
   "id": "b39fe46e-d1ac-4e94-a58a-7af0eb9a85cb",
   "metadata": {},
   "outputs": [
    {
     "name": "stdout",
     "output_type": "stream",
     "text": [
      "[[1 4 5 6]\n",
      " [7 0 3 1]]\n"
     ]
    }
   ],
   "source": [
    "a1=np.array([1,4,5,6])# vstack(convert two 1D in 2D array)k\n",
    "a2=np.array([7,0,3,1])\n",
    "combined=np.vstack((a1,a2))\n",
    "print (combined)"
   ]
  },
  {
   "cell_type": "code",
   "execution_count": 21,
   "id": "36676b80-5a9f-4fe9-8f75-85437ec04165",
   "metadata": {},
   "outputs": [
    {
     "name": "stdout",
     "output_type": "stream",
     "text": [
      "[[[1 4 5 6]\n",
      "  [7 0 3 1]]\n",
      "\n",
      " [[1 4 5 6]\n",
      "  [7 0 3 1]]]\n"
     ]
    }
   ],
   "source": [
    "a1=np.array([1,4,5,6])# stack(convert two 2D in 3D array)\n",
    "a2=np.array([7,0,3,1])\n",
    "a3=np.array([1,4,5,6])\n",
    "a4=np.array([7,0,3,1])\n",
    "combined=np.vstack((a1,a2))\n",
    "combined1=np.vstack((a3,a4))\n",
    "combined2=np.stack((combined,combined1))\n",
    "print (combined2)"
   ]
  },
  {
   "cell_type": "code",
   "execution_count": 24,
   "id": "a0ef10eb-92b4-4a4d-9d92-4e24abbf6442",
   "metadata": {},
   "outputs": [
    {
     "name": "stdout",
     "output_type": "stream",
     "text": [
      "[[[ 1  2]\n",
      "  [ 3  4]]\n",
      "\n",
      " [[ 5  6]\n",
      "  [ 7  8]]\n",
      "\n",
      " [[ 9 10]\n",
      "  [11 12]]]\n"
     ]
    }
   ],
   "source": [
    "arr = np.array([1, 2, 3, 4, 5, 6, 7, 8, 9, 10, 11, 12])# reshape 1D array into 3D array)\n",
    "\n",
    "newarr = arr.reshape(3, 2, 2)\n",
    "\n",
    "print(newarr)"
   ]
  },
  {
   "cell_type": "code",
   "execution_count": 37,
   "id": "0e2a2ec7-7d06-4e6b-9420-d7081e3f6000",
   "metadata": {},
   "outputs": [
    {
     "name": "stdout",
     "output_type": "stream",
     "text": [
      "[[[ 1  2]\n",
      "  [ 3  4]\n",
      "  [ 5  6]]\n",
      "\n",
      " [[ 7  8]\n",
      "  [ 9 10]\n",
      "  [11 12]]]\n"
     ]
    }
   ],
   "source": [
    "arr=np.array([[1,2,3,4,5,6],[7,8,9,10,11,12]])#reshape 2D array to 3D array\n",
    "newarr=arr.reshape(2,3,2)\n",
    "print(newarr)"
   ]
  },
  {
   "cell_type": "code",
   "execution_count": 39,
   "id": "80d0403e-a84d-4011-8944-9e34d7aee0d7",
   "metadata": {},
   "outputs": [
    {
     "name": "stdout",
     "output_type": "stream",
     "text": [
      "[ 1  2  3  4  5  6  7  8  9 10 11 12]\n"
     ]
    }
   ],
   "source": [
    "arr=np.array([[1,2,3,4,5,6],[7,8,9,10,11,12]])# flatten(convert 2D array to 1D array)\n",
    "print(arr.flatten())"
   ]
  },
  {
   "cell_type": "code",
   "execution_count": null,
   "id": "7cb5c017-30af-4214-bcbc-d24f6ff0d220",
   "metadata": {},
   "outputs": [],
   "source": []
  }
 ],
 "metadata": {
  "kernelspec": {
   "display_name": "Python [conda env:base] *",
   "language": "python",
   "name": "conda-base-py"
  },
  "language_info": {
   "codemirror_mode": {
    "name": "ipython",
    "version": 3
   },
   "file_extension": ".py",
   "mimetype": "text/x-python",
   "name": "python",
   "nbconvert_exporter": "python",
   "pygments_lexer": "ipython3",
   "version": "3.13.5"
  }
 },
 "nbformat": 4,
 "nbformat_minor": 5
}
