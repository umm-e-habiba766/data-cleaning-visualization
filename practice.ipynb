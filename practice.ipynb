{
 "cells": [
  {
   "cell_type": "code",
   "execution_count": 5,
   "id": "6cda4cfc-8351-4abb-a060-e5e593a90577",
   "metadata": {},
   "outputs": [
    {
     "name": "stdout",
     "output_type": "stream",
     "text": [
      "5 x 1 = 5\n",
      "5 x 2 = 10\n",
      "5 x 3 = 15\n",
      "5 x 4 = 20\n",
      "5 x 5 = 25\n",
      "5 x 6 = 30\n",
      "5 x 7 = 35\n",
      "5 x 8 = 40\n",
      "5 x 9 = 45\n",
      "5 x 10 = 50\n"
     ]
    }
   ],
   "source": [
    "i=5\n",
    "j=1\n",
    "while j<=10:\n",
    "    print(i, \"x\", j, \"=\", i*j)\n",
    "    j+=1"
   ]
  },
  {
   "cell_type": "code",
   "execution_count": 37,
   "id": "076bc983-4c56-4f14-9e00-bc4ac6417eb9",
   "metadata": {},
   "outputs": [
    {
     "name": "stdout",
     "output_type": "stream",
     "text": [
      "3\n",
      "6\n",
      "6\n"
     ]
    }
   ],
   "source": [
    "n=3\n",
    "r=1\n",
    "while n>=1:\n",
    "    r=r*n\n",
    "    n-=1\n",
    "    print(r)"
   ]
  },
  {
   "cell_type": "code",
   "execution_count": null,
   "id": "a627a336-e0e8-40c7-9bf7-af57550f4262",
   "metadata": {},
   "outputs": [],
   "source": []
  },
  {
   "cell_type": "code",
   "execution_count": 18,
   "id": "26e2e568-90d6-428d-afc9-2ae96b652adf",
   "metadata": {},
   "outputs": [
    {
     "name": "stdout",
     "output_type": "stream",
     "text": [
      "1\n",
      "2\n",
      "3\n",
      "4\n",
      "5\n",
      "6\n",
      "7\n",
      "8\n",
      "9\n"
     ]
    }
   ],
   "source": [
    "for i in range(1,10):\n",
    "    print(i)"
   ]
  },
  {
   "cell_type": "code",
   "execution_count": 20,
   "id": "77bdcc36-d5e6-4828-9ac2-ea0e61c85916",
   "metadata": {},
   "outputs": [
    {
     "name": "stdout",
     "output_type": "stream",
     "text": [
      "4 x 1 = 4\n",
      "4 x 2 = 8\n",
      "4 x 3 = 12\n",
      "4 x 4 = 16\n",
      "4 x 5 = 20\n",
      "4 x 6 = 24\n",
      "4 x 7 = 28\n",
      "4 x 8 = 32\n",
      "4 x 9 = 36\n",
      "4 x 10 = 40\n"
     ]
    }
   ],
   "source": [
    "i=4\n",
    "j=1\n",
    "for j in range(1,11):\n",
    "    print(i ,\"x\",j,\"=\", i*j)"
   ]
  },
  {
   "cell_type": "code",
   "execution_count": 28,
   "id": "c4397f91-8335-4c54-8b06-3208d509f2cc",
   "metadata": {},
   "outputs": [
    {
     "name": "stdout",
     "output_type": "stream",
     "text": [
      "50\n",
      "49\n",
      "48\n",
      "47\n",
      "46\n",
      "45\n",
      "44\n",
      "43\n",
      "42\n",
      "41\n"
     ]
    }
   ],
   "source": [
    "for i in range(50,40,-1):\n",
    "    print(i)"
   ]
  },
  {
   "cell_type": "code",
   "execution_count": 38,
   "id": "ec72c1c1-5e5c-4256-a7ab-2ff15a15a521",
   "metadata": {},
   "outputs": [
    {
     "name": "stdout",
     "output_type": "stream",
     "text": [
      "3\n",
      "6\n",
      "9\n",
      "12\n",
      "15\n",
      "18\n",
      "21\n",
      "24\n",
      "27\n",
      "30\n",
      "33\n",
      "36\n",
      "39\n",
      "42\n",
      "45\n",
      "48\n"
     ]
    }
   ],
   "source": [
    "for i in range(1,50):\n",
    "    if (i%3==0 and i%5==0) or( i%3==0) :\n",
    "        print(i)"
   ]
  },
  {
   "cell_type": "code",
   "execution_count": 51,
   "id": "9755c60b-b147-4c97-8875-8380d5ef70b7",
   "metadata": {},
   "outputs": [
    {
     "name": "stdin",
     "output_type": "stream",
     "text": [
      "Enter n:  5\n"
     ]
    },
    {
     "name": "stdout",
     "output_type": "stream",
     "text": [
      "5\n",
      "20\n",
      "60\n",
      "120\n"
     ]
    }
   ],
   "source": [
    "n=int(input(\"Enter n: \"))\n",
    "r=1\n",
    "for n in range(n,1,-1):\n",
    "    r*=n\n",
    "    print(r)"
   ]
  },
  {
   "cell_type": "code",
   "execution_count": 4,
   "id": "24d3d12f-3ac2-48c6-83ad-a9a5aedf392c",
   "metadata": {},
   "outputs": [
    {
     "name": "stdout",
     "output_type": "stream",
     "text": [
      "100\n"
     ]
    }
   ],
   "source": [
    "square=lambda x:x**2;\n",
    "print(square(10))"
   ]
  },
  {
   "cell_type": "code",
   "execution_count": 5,
   "id": "7d54e0f1-38a6-43ac-a11a-c696b0764cde",
   "metadata": {},
   "outputs": [
    {
     "name": "stdout",
     "output_type": "stream",
     "text": [
      "2.0\n"
     ]
    }
   ],
   "source": [
    "divide=lambda x,y:x/y;\n",
    "print(divide(4,2))"
   ]
  },
  {
   "cell_type": "code",
   "execution_count": 34,
   "id": "d8ba506d-0cbc-4a74-88bf-d3ed0f8e6a27",
   "metadata": {},
   "outputs": [
    {
     "name": "stdout",
     "output_type": "stream",
     "text": [
      "passed\n"
     ]
    }
   ],
   "source": [
    "marks=lambda x:\"passed\"if x>=40 and x==100 or x>=40 else \"failed\";\n",
    "print(marks(85))"
   ]
  },
  {
   "cell_type": "code",
   "execution_count": 31,
   "id": "a349ce95-ffca-495a-8af6-9fc3b09a9f5d",
   "metadata": {},
   "outputs": [
    {
     "name": "stdout",
     "output_type": "stream",
     "text": [
      "10\n"
     ]
    }
   ],
   "source": [
    "def add(x,y):\n",
    "     return x+y;\n",
    "num=lambda x,y:add(x,y)+5\n",
    "print(num(1,4))\n",
    "    \n",
    " "
   ]
  },
  {
   "cell_type": "code",
   "execution_count": 35,
   "id": "26a9c756-1775-43e7-90a7-63b3e3e47914",
   "metadata": {},
   "outputs": [
    {
     "name": "stdout",
     "output_type": "stream",
     "text": [
      "2.0\n"
     ]
    }
   ],
   "source": [
    "tab=lambda x,y:divide(x,y);\n",
    "print(tab(4,2))"
   ]
  },
  {
   "cell_type": "code",
   "execution_count": 52,
   "id": "8b1e3675-5c9a-4106-9500-9887f339b13e",
   "metadata": {},
   "outputs": [
    {
     "name": "stdin",
     "output_type": "stream",
     "text": [
      "Enter a  number:  1\n",
      "Enter a number:  0\n"
     ]
    },
    {
     "name": "stdout",
     "output_type": "stream",
     "text": [
      "not divisible\n",
      "Done\n"
     ]
    }
   ],
   "source": [
    "# division error\n",
    "n1=int(input(\"Enter a  number: \"))\n",
    "n2=int(input(\"Enter a number: \"))\n",
    "try:\n",
    "     a=4/n1\n",
    "     a=2/n2\n",
    "except:\n",
    "    if n1==0 or n2==0:\n",
    "         print(\"not divisible\")\n",
    "finally:\n",
    "    print(\"Done\") "
   ]
  },
  {
   "cell_type": "code",
   "execution_count": 57,
   "id": "d50e51de-ca06-4dc0-bf41-325fe7340ac1",
   "metadata": {},
   "outputs": [
    {
     "name": "stdin",
     "output_type": "stream",
     "text": [
      "Enter a number: 5\n"
     ]
    },
    {
     "name": "stdout",
     "output_type": "stream",
     "text": [
      "odd\n",
      "Done\n"
     ]
    }
   ],
   "source": [
    "# type error\n",
    "try:\n",
    "    n=int(input(\"Enter a number:\"))\n",
    "    if n%2==0:\n",
    "        print(\"even\")\n",
    "    else:\n",
    "        print(\"odd\")\n",
    "except:\n",
    "     print(\"Enter a integer\")\n",
    "finally:\n",
    "     print(\"Done\")"
   ]
  },
  {
   "cell_type": "code",
   "execution_count": 9,
   "id": "78a51f3d-7e38-49fc-aa7c-ab4e4c0b6f04",
   "metadata": {},
   "outputs": [
    {
     "name": "stdin",
     "output_type": "stream",
     "text": [
      "Enter a number: 5\n"
     ]
    },
    {
     "name": "stdout",
     "output_type": "stream",
     "text": [
      "[1, 2, 3, 4]\n",
      "IndexError: List index out of range\n",
      "Done\n"
     ]
    }
   ],
   "source": [
    "#index error\n",
    "n=int(input(\"Enter a number:\"))\n",
    "try:\n",
    "    lst = [1,2,3,4]\n",
    "    print(lst)\n",
    "    print(lst[n])\n",
    "except:\n",
    "    print(\"IndexError: List index out of range\")\n",
    "finally:\n",
    "    print(\"Done\")"
   ]
  },
  {
   "cell_type": "code",
   "execution_count": 7,
   "id": "f0795eeb-ff98-4f47-bd1b-29b5ba441604",
   "metadata": {},
   "outputs": [
    {
     "name": "stdin",
     "output_type": "stream",
     "text": [
      "Enter a value: y\n"
     ]
    },
    {
     "name": "stdout",
     "output_type": "stream",
     "text": [
      "Enter a number\n",
      "Done\n"
     ]
    }
   ],
   "source": [
    "# value error\n",
    "try:\n",
    "    v=int(input(\"Enter a value:\"))\n",
    "except:\n",
    "    print(\"Enter a number\")\n",
    "finally:\n",
    "    print(\"Done\")\n",
    "    "
   ]
  },
  {
   "cell_type": "code",
   "execution_count": 8,
   "id": "9a86f63c-8f86-4a5c-8b0e-d98faa9f9eb9",
   "metadata": {},
   "outputs": [
    {
     "name": "stdout",
     "output_type": "stream",
     "text": [
      "KeyError: Key does not exist in dictionary\n",
      "Done\n"
     ]
    }
   ],
   "source": [
    "# 3. KeyError\n",
    "try:\n",
    "    my_dict = {\"Ali\": 1,\"saba\":2,\"bisma\":3}\n",
    "    print(my_dict[\"age\"])\n",
    "except:\n",
    "    print(\"KeyError: Key does not exist in dictionary\")\n",
    "finally:\n",
    "    print(\"Done\")"
   ]
  },
  {
   "cell_type": "code",
   "execution_count": 11,
   "id": "ed6552f2-d5ae-4b6d-a33a-579d6658b57f",
   "metadata": {},
   "outputs": [
    {
     "name": "stdout",
     "output_type": "stream",
     "text": [
      "variable does not exist\n",
      "Done\n"
     ]
    }
   ],
   "source": [
    "# name error\n",
    "a=10\n",
    "b=30\n",
    "sum=a+b\n",
    "try:\n",
    "    print(sum)\n",
    "    print(y)\n",
    "except:\n",
    "    print(\"variable does not exist\")\n",
    "finally:\n",
    "    print(\"Done\")"
   ]
  },
  {
   "cell_type": "code",
   "execution_count": 12,
   "id": "5af154cb-14a8-4bf1-95b6-bf280f1711e6",
   "metadata": {},
   "outputs": [
    {
     "name": "stdin",
     "output_type": "stream",
     "text": [
      "Enter a number 12345e56789*10*40\n"
     ]
    },
    {
     "name": "stdout",
     "output_type": "stream",
     "text": [
      "overflow\n",
      "Done\n"
     ]
    }
   ],
   "source": [
    "try:\n",
    "    n=int(input(\"Enter a number\"))\n",
    "    print (n)\n",
    "except:\n",
    "    print(\"overflow\")\n",
    "finally:\n",
    "    print(\"Done\")"
   ]
  },
  {
   "cell_type": "code",
   "execution_count": 26,
   "id": "f2153c32-5258-49f6-b886-ee72398bf8e2",
   "metadata": {},
   "outputs": [
    {
     "name": "stdout",
     "output_type": "stream",
     "text": [
      "llo-W\n",
      "Hello-World\n"
     ]
    }
   ],
   "source": [
    "a=\"Hello-World\"\n",
    "print(a[2:7])\n",
    "\n",
    "a=\"Hello-World\"\n",
    "print(a[:])"
   ]
  },
  {
   "cell_type": "code",
   "execution_count": 33,
   "id": "2c1bef9a-2192-43f1-9750-816dd5fbcdf9",
   "metadata": {},
   "outputs": [
    {
     "name": "stdout",
     "output_type": "stream",
     "text": [
      "roW-olleH\n"
     ]
    }
   ],
   "source": [
    "a=\"Hello-World\"\n",
    "print(a[::-1])"
   ]
  },
  {
   "cell_type": "code",
   "execution_count": 21,
   "id": "22546a96-b746-49b8-b6d3-fb49fa764a2a",
   "metadata": {},
   "outputs": [
    {
     "name": "stdout",
     "output_type": "stream",
     "text": [
      "1234\n"
     ]
    }
   ],
   "source": [
    "a=\"1234\"\n",
    "print(a[:])"
   ]
  },
  {
   "cell_type": "code",
   "execution_count": 22,
   "id": "f94f01b3-3f84-4fae-b733-b5451b8c900a",
   "metadata": {},
   "outputs": [
    {
     "name": "stdout",
     "output_type": "stream",
     "text": [
      "4321\n"
     ]
    }
   ],
   "source": [
    "a=\"1234\"\n",
    "print(a[::-1])"
   ]
  },
  {
   "cell_type": "code",
   "execution_count": 25,
   "id": "08751f2e-55a0-4cbf-8d2e-e4497132c0b8",
   "metadata": {},
   "outputs": [
    {
     "name": "stdout",
     "output_type": "stream",
     "text": [
      "123\n"
     ]
    }
   ],
   "source": [
    "a=\"1234\"\n",
    "print(a[:-1])"
   ]
  },
  {
   "cell_type": "markdown",
   "id": "d87387b8-582f-46d3-878e-083a0c014c34",
   "metadata": {},
   "source": [
    "print.upper()"
   ]
  },
  {
   "cell_type": "code",
   "execution_count": 27,
   "id": "cadc3b31-b0d0-46e2-827e-efed434e634c",
   "metadata": {},
   "outputs": [
    {
     "data": {
      "text/plain": [
       "'HELLO-WORLD'"
      ]
     },
     "execution_count": 27,
     "metadata": {},
     "output_type": "execute_result"
    }
   ],
   "source": [
    "a.upper()"
   ]
  },
  {
   "cell_type": "code",
   "execution_count": 28,
   "id": "abcfe9d6-4393-4243-8f63-8b465eb2bfd4",
   "metadata": {},
   "outputs": [
    {
     "data": {
      "text/plain": [
       "'hello-world'"
      ]
     },
     "execution_count": 28,
     "metadata": {},
     "output_type": "execute_result"
    }
   ],
   "source": [
    "a.lower()"
   ]
  },
  {
   "cell_type": "code",
   "execution_count": 31,
   "id": "52c54b47-8829-49ef-8683-4d4ef343ea0d",
   "metadata": {},
   "outputs": [
    {
     "data": {
      "text/plain": [
       "'Hello-world'"
      ]
     },
     "execution_count": 31,
     "metadata": {},
     "output_type": "execute_result"
    }
   ],
   "source": [
    "a.capitalize()"
   ]
  },
  {
   "cell_type": "code",
   "execution_count": 32,
   "id": "eb5496f7-b217-4acb-b669-6c8513e6152f",
   "metadata": {},
   "outputs": [
    {
     "name": "stdin",
     "output_type": "stream",
     "text": [
      "enter:  AmIna\n"
     ]
    }
   ],
   "source": [
    "n=input(\"enter: \")"
   ]
  },
  {
   "cell_type": "code",
   "execution_count": 36,
   "id": "68dc3059-0a2e-4b1c-8c50-01ae2e8e2e3f",
   "metadata": {},
   "outputs": [
    {
     "name": "stdout",
     "output_type": "stream",
     "text": [
      "TYP\n"
     ]
    }
   ],
   "source": [
    "b=\"PYTHON\"\n",
    "print(b[-4::-1])"
   ]
  },
  {
   "cell_type": "code",
   "execution_count": 37,
   "id": "8d66b9d3-9fe5-40c9-941e-abd77ef10fa3",
   "metadata": {},
   "outputs": [
    {
     "data": {
      "text/plain": [
       "'bHello-WorldeHello-WorldaHello-WorlduHello-WorldtHello-WorldiHello-WorldfHello-WorlduHello-Worldl'"
      ]
     },
     "execution_count": 37,
     "metadata": {},
     "output_type": "execute_result"
    }
   ],
   "source": [
    "a.join(\"beautiful\")"
   ]
  },
  {
   "cell_type": "code",
   "execution_count": 45,
   "id": "0a4e2280-ffa6-4e2d-852f-a9e1b389c668",
   "metadata": {},
   "outputs": [
    {
     "data": {
      "text/plain": [
       "'rello-World'"
      ]
     },
     "execution_count": 45,
     "metadata": {},
     "output_type": "execute_result"
    }
   ],
   "source": [
    "a.replace(\"H\",\"r\")"
   ]
  },
  {
   "cell_type": "code",
   "execution_count": 52,
   "id": "8737aa49-4992-422b-bb7f-dbb8aafcd650",
   "metadata": {},
   "outputs": [
    {
     "data": {
      "text/plain": [
       "['Hello-World']"
      ]
     },
     "execution_count": 52,
     "metadata": {},
     "output_type": "execute_result"
    }
   ],
   "source": [
    "a.split()"
   ]
  },
  {
   "cell_type": "code",
   "execution_count": 50,
   "id": "458764da-8a93-4c18-b6da-a95417703592",
   "metadata": {},
   "outputs": [
    {
     "data": {
      "text/plain": [
       "['how', 'are', 'you']"
      ]
     },
     "execution_count": 50,
     "metadata": {},
     "output_type": "execute_result"
    }
   ],
   "source": [
    "x= \"how are you\"\n",
    "x.split()"
   ]
  },
  {
   "cell_type": "code",
   "execution_count": 55,
   "id": "69a9076c-d086-4482-8474-08c5dac46d4e",
   "metadata": {},
   "outputs": [
    {
     "data": {
      "text/plain": [
       "'how are you'"
      ]
     },
     "execution_count": 55,
     "metadata": {},
     "output_type": "execute_result"
    }
   ],
   "source": [
    "x.strip()"
   ]
  },
  {
   "cell_type": "code",
   "execution_count": 1,
   "id": "f8b03a74-667c-44c4-8cd6-80d71fbb0873",
   "metadata": {},
   "outputs": [
    {
     "name": "stdout",
     "output_type": "stream",
     "text": [
      "Toyota\n"
     ]
    }
   ],
   "source": [
    "class Car:\n",
    "    def say_brand(self):\n",
    "        return \"Toyota\"\n",
    "\n",
    "c1 = Car()\n",
    "print(c1.say_brand())  "
   ]
  },
  {
   "cell_type": "code",
   "execution_count": 2,
   "id": "694ab145-cc07-4669-91c3-ec2d2640ae88",
   "metadata": {},
   "outputs": [
    {
     "name": "stdout",
     "output_type": "stream",
     "text": [
      "Ali\n"
     ]
    }
   ],
   "source": [
    "class Student:\n",
    "    def get_name(self):\n",
    "        return \"Ali\"\n",
    "\n",
    "s1 = Student()\n",
    "print(s1.get_name()) "
   ]
  },
  {
   "cell_type": "code",
   "execution_count": 3,
   "id": "6c96d301-dfd8-4fd5-b4cc-efc1e5524942",
   "metadata": {},
   "outputs": [
    {
     "name": "stdout",
     "output_type": "stream",
     "text": [
      "8\n"
     ]
    }
   ],
   "source": [
    "class Calculator:\n",
    "    def add(self, a, b):\n",
    "        return a + b\n",
    "\n",
    "calc = Calculator()\n",
    "print(calc.add(5, 3))"
   ]
  },
  {
   "cell_type": "code",
   "execution_count": 4,
   "id": "a13b0fb4-526b-4b0d-99ec-022958f6a1bb",
   "metadata": {},
   "outputs": [
    {
     "name": "stdout",
     "output_type": "stream",
     "text": [
      "My car is Toyota\n",
      "My car is Honda\n"
     ]
    }
   ],
   "source": [
    "class Car:\n",
    "    def __init__(self, brand):   \n",
    "        self.brand = brand      \n",
    "\n",
    "    def say_brand(self):         \n",
    "        return f\"My car is {self.brand}\"\n",
    "\n",
    "c1 = Car(\"Toyota\")\n",
    "c2 = Car(\"Honda\")\n",
    "\n",
    "print(c1.say_brand())  \n",
    "print(c2.say_brand())   \n"
   ]
  },
  {
   "cell_type": "code",
   "execution_count": 5,
   "id": "40fea45e-cad8-48f1-a3a0-dae4a0aae6e0",
   "metadata": {},
   "outputs": [
    {
     "name": "stdout",
     "output_type": "stream",
     "text": [
      "Add: 8\n",
      "Multiply: 15\n"
     ]
    }
   ],
   "source": [
    "class Calculator:\n",
    "    def __init__(self, a, b):\n",
    "        self.a = a\n",
    "        self.b = b\n",
    "\n",
    "    def add(self):\n",
    "        return self.a + self.b\n",
    "\n",
    "    def multiply(self):\n",
    "        return self.a * self.b\n",
    "\n",
    "calc = Calculator(5, 3)\n",
    "print(\"Add:\", calc.add())          \n",
    "print(\"Multiply:\", calc.multiply()) \n"
   ]
  },
  {
   "cell_type": "code",
   "execution_count": 44,
   "id": "68ef637d-0cd3-4ada-9d8d-285b94ed440a",
   "metadata": {},
   "outputs": [
    {
     "name": "stdout",
     "output_type": "stream",
     "text": [
      "Entry Number: CS-101\n",
      "Name: Ali\n",
      "Marks: 80 70 90\n",
      "Percentage: 80.0\n",
      "Grade: A\n"
     ]
    },
    {
     "data": {
      "text/plain": [
       "'A'"
      ]
     },
     "execution_count": 44,
     "metadata": {},
     "output_type": "execute_result"
    }
   ],
   "source": [
    "class Student:\n",
    "    def __init__(self, entry_number, name, Eng, Phy, Math):\n",
    "        self.entry_number = entry_number    \n",
    "        self.__name = name                 \n",
    "        self.Eng = Eng                      \n",
    "        self.Phy = Phy                      \n",
    "        self.Math = Math                    \n",
    "\n",
    "    def calculate_percentage(self):\n",
    "        return (self.Eng + self.Phy + self.Math) / 3\n",
    "\n",
    "    def assign_grade(self):\n",
    "        percentage = self.calculate_percentage()\n",
    "        if percentage >= 80:\n",
    "            return \"A\"\n",
    "        elif percentage >= 60:\n",
    "            return \"B\"\n",
    "        elif percentage >= 40:\n",
    "            return \"C\"\n",
    "        else:\n",
    "            return \"Fail\"\n",
    "\n",
    "    def show_details(self):\n",
    "        print(\"Entry Number:\", self.entry_number) \n",
    "        print(\"Name:\", self.__name)               \n",
    "        print(\"Marks:\", self.Eng, self.Phy, self.Math)\n",
    "        print(\"Percentage:\", self.calculate_percentage())\n",
    "        print(\"Grade:\", self.assign_grade())\n",
    "s1 = Student(\"CS-101\", \"Ali\", 80, 70, 90)\n",
    "s1.show_details()\n",
    "s1.calculate_percentage()\n",
    "s1.assign_grade()"
   ]
  },
  {
   "cell_type": "code",
   "execution_count": 3,
   "id": "838ce4ac-1ab7-48ca-a810-916a3ef46de2",
   "metadata": {},
   "outputs": [
    {
     "ename": "AttributeError",
     "evalue": "'str' object has no attribute 'append'",
     "output_type": "error",
     "traceback": [
      "\u001b[1;31m---------------------------------------------------------------------------\u001b[0m",
      "\u001b[1;31mAttributeError\u001b[0m                            Traceback (most recent call last)",
      "Cell \u001b[1;32mIn[3], line 2\u001b[0m\n\u001b[0;32m      1\u001b[0m a\u001b[38;5;241m=\u001b[39m\u001b[38;5;124m\"\u001b[39m\u001b[38;5;124mHello worls\u001b[39m\u001b[38;5;124m\"\u001b[39m\n\u001b[1;32m----> 2\u001b[0m a\u001b[38;5;241m.\u001b[39mappend()\n",
      "\u001b[1;31mAttributeError\u001b[0m: 'str' object has no attribute 'append'"
     ]
    }
   ],
   "source": [
    "a=\"Hello worls\"\n",
    "a.append()"
   ]
  },
  {
   "cell_type": "code",
   "execution_count": null,
   "id": "6ed376ce-dc01-4bec-b0fa-6a747f0db765",
   "metadata": {},
   "outputs": [],
   "source": []
  }
 ],
 "metadata": {
  "kernelspec": {
   "display_name": "Python [conda env:base] *",
   "language": "python",
   "name": "conda-base-py"
  },
  "language_info": {
   "codemirror_mode": {
    "name": "ipython",
    "version": 3
   },
   "file_extension": ".py",
   "mimetype": "text/x-python",
   "name": "python",
   "nbconvert_exporter": "python",
   "pygments_lexer": "ipython3",
   "version": "3.13.5"
  }
 },
 "nbformat": 4,
 "nbformat_minor": 5
}
